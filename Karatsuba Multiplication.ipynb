{
 "cells": [
  {
   "cell_type": "code",
   "execution_count": 7,
   "metadata": {},
   "outputs": [],
   "source": [
    "import numpy as np"
   ]
  },
  {
   "cell_type": "markdown",
   "metadata": {},
   "source": [
    "# Karatsuba Multiplication\n",
    "\n",
    "In elementary school we learn to multiply 2 numbers:\n",
    "\n",
    "<img src=\"images/elementary_multiplication.jpg\" alt=\"drawing\" width=\"200\"/>\n",
    "\n",
    "This method/algorithm requires the mutliplication of all numbers: $n$(digits of the upper number) by $m$, so $n^2$, if n=m (3 times 2, 3 times 2, 4 times 2 and 4 times. Then we simply sum up the result of the multiplication\n",
    "\n",
    "This method/algorithm has a complexity $\\mathcal{O}(kn^2)$, each row (66 & 880) has $\\leq2n$ operations, so if there are n rows and each row has $\\leq 2n$ operations, we have a total of $2n^2$ operations.\n",
    "\n",
    "_There a 2n operations because for the first row (66) we could 22x48, so we have 2 times 8 = 16, so we put a 6 and we keep the 1, then 2 times 8 = 16, plus the 1 from before we get 17. Hence the first row would be 176, so for 2 numbers we did a total of 3 operations, that's why for each row we have $\\leq2n$ operations._\n",
    "\n",
    "Finally, we need to sum up all rows and that would be again a total of $2n^2$ operations. So the final algorithm complexity it is like to be $\\mathcal{O}(4n^2)$."
   ]
  },
  {
   "cell_type": "code",
   "execution_count": 3,
   "metadata": {},
   "outputs": [
    {
     "ename": "TypeError",
     "evalue": "object of type 'int' has no len()",
     "output_type": "error",
     "traceback": [
      "\u001b[0;31m---------------------------------------------------------------------------\u001b[0m",
      "\u001b[0;31mTypeError\u001b[0m                                 Traceback (most recent call last)",
      "\u001b[0;32m<ipython-input-3-a7f4a5366567>\u001b[0m in \u001b[0;36m<module>\u001b[0;34m\u001b[0m\n\u001b[0;32m----> 1\u001b[0;31m \u001b[0mlen\u001b[0m\u001b[0;34m(\u001b[0m\u001b[0mx\u001b[0m\u001b[0;34m)\u001b[0m\u001b[0;34m\u001b[0m\u001b[0;34m\u001b[0m\u001b[0m\n\u001b[0m",
      "\u001b[0;31mTypeError\u001b[0m: object of type 'int' has no len()"
     ]
    }
   ],
   "source": [
    "len(x)"
   ]
  },
  {
   "cell_type": "code",
   "execution_count": 1,
   "metadata": {},
   "outputs": [],
   "source": [
    "x = 5678\n",
    "y = 1234"
   ]
  },
  {
   "cell_type": "code",
   "execution_count": 10,
   "metadata": {},
   "outputs": [],
   "source": [
    "def digit_length(x):\n",
    "    return int(np.log10(x)+1)\n",
    "\n",
    "def"
   ]
  },
  {
   "cell_type": "code",
   "execution_count": 11,
   "metadata": {},
   "outputs": [
    {
     "data": {
      "text/plain": [
       "56.0"
      ]
     },
     "execution_count": 11,
     "metadata": {},
     "output_type": "execute_result"
    }
   ],
   "source": [
    "(x-x%100)/100"
   ]
  },
  {
   "cell_type": "code",
   "execution_count": 12,
   "metadata": {},
   "outputs": [
    {
     "data": {
      "text/plain": [
       "3.7541953881898382"
      ]
     },
     "execution_count": 12,
     "metadata": {},
     "output_type": "execute_result"
    }
   ],
   "source": [
    "np.log10(x)"
   ]
  },
  {
   "cell_type": "code",
   "execution_count": 13,
   "metadata": {},
   "outputs": [
    {
     "data": {
      "text/plain": [
       "4"
      ]
     },
     "execution_count": 13,
     "metadata": {},
     "output_type": "execute_result"
    }
   ],
   "source": [
    "digit_length(x)"
   ]
  },
  {
   "cell_type": "code",
   "execution_count": null,
   "metadata": {},
   "outputs": [],
   "source": []
  }
 ],
 "metadata": {
  "kernelspec": {
   "display_name": "algorithms",
   "language": "python",
   "name": "algorithms"
  },
  "language_info": {
   "codemirror_mode": {
    "name": "ipython",
    "version": 3
   },
   "file_extension": ".py",
   "mimetype": "text/x-python",
   "name": "python",
   "nbconvert_exporter": "python",
   "pygments_lexer": "ipython3",
   "version": "3.8.5"
  }
 },
 "nbformat": 4,
 "nbformat_minor": 2
}
