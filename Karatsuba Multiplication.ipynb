{
 "cells": [
  {
   "cell_type": "code",
   "execution_count": 1,
   "metadata": {},
   "outputs": [],
   "source": [
    "from itertools import combinations \n",
    "import math\n",
    "\n",
    "import numpy as np"
   ]
  },
  {
   "cell_type": "markdown",
   "metadata": {},
   "source": [
    "## Karatsuba Multiplication\n",
    "\n",
    "In elementary school we learn to multiply 2 numbers:\n",
    "\n",
    "<img src=\"images/elementary_multiplication.jpg\" alt=\"drawing\" width=\"200\"/>\n",
    "\n",
    "Previous multiplication method/algorithm is teach in **elementary school** and it requires the mutliplication of all numbers. In spite of being easy to teach, its complexity is $\\mathcal{O}(n^2)$.\n",
    "\n",
    "However, to compute the product of large number the previous algorithm is inefficient. In this notebook we will implement another multplication algorithm, called **Karatsuba algorithm**, its compleixty is $\\mathcal{O}(n^{1.585})$. For the curios reader there are even more efficient algorithms, so far the best one is Harvey-Hoeven algorithm with $\\mathcal{O}(nlog(n))$, more information can be found in this [link](https://en.wikipedia.org/wiki/Computational_complexity_of_mathematical_operations#Arithmetic_functions).\n",
    "\n",
    "To explain **Karatsuba algorithm** we will focus on a simple multiplication: \n",
    "\n",
    "\n",
    "$$\n",
    "\\begin{array} \n",
    "& & 5 & 6 & 7 & 8 \\\\\n",
    "x & 1 & 2 & 3 & 4 \\\\\n",
    "\\hline\n",
    "\\end{array}\n",
    "$$\n",
    "\n",
    "**0th Step:**  \n",
    ">  Decompose the numbers A and B, in half. \n",
    "$$ 5678 \\to a = 56  \\quad  b = 78.$$\n",
    "\n",
    "$$ 1234 \\to c=12  \\quad  d=34.$$  \n",
    "\n",
    "Instead of multiply as in elementary-school, we will decompose each number so that:  \n",
    "$$ 5678·1234=(a·100+b)(c·100+d)=ac·100²+(ad+bc)·100 +bd $$\n",
    "\n",
    "**1st Step:**  \n",
    "> Compute $a·c=672$.\n",
    "\n",
    "**2nd Step:**  \n",
    "> Compute $b·d=2652$.  \n",
    "\n",
    "_Please notice that you can't use to the elementary multiplication algorithm to computer neither $a·c$ nor $\n",
    "b·c$, so you will need to implement this algorithm recursively, you can see how in the code below._  \n",
    "\n",
    "**3rd Step:**  \n",
    "> Compute $(a+b)·(c+d)=134·46=6164$.\n",
    "\n",
    "Take a second a look at the previous computation, it will be important for the next step.  \n",
    "$$(a+b)·(c+d) = ac+ad+bc+bd$$\n",
    "\n",
    "**4th step:**  \n",
    "> This is the most imporatant step, because we combine the last 3 previous steps.  \n",
    "\n",
    "$$ 3^{th} - 2^{nd} - 1^{st} = (ac+ad+bc+bd)-bd-ac=ad+bd$$\n",
    "\n",
    "_Using this trick, instead of multiplying $ad$ and then do another multiplication $bc$, we get the result by simply doing step 3. So, we avoid one extra multiplication at the cost of a few extra additions._\n",
    "\n",
    "**FINAL STEP:**\n",
    "\n",
    "If you have paid attention to each step, you will have noticed that in each step we are getting the terms that I have written down in the **0th step**. \n",
    "\n",
    "So, as you may figure out the result will be:  \n",
    "\n",
    "$$ Result \\to 1^{st}·B^2+4^{th}·B+2^{nd}$$\n",
    "\n",
    "In this case it is obvious that $B=100$. However, for any other number B could be: $1, 10, 100, 1000, etc.$ So to figure out the value of $B$, you need to know the decimal place of the letter $a$.\n",
    "\n",
    "**Example**  \n",
    "Suppose we are interested in computing $97801·8040$. Our first step will be decomposing so $a=97$ and $b=801$. Since $97$ is in the thousands position, $B$ will be $B=1000$."
   ]
  },
  {
   "cell_type": "code",
   "execution_count": 2,
   "metadata": {},
   "outputs": [],
   "source": [
    "def digit_length(x):\n",
    "    if x > 0:\n",
    "        digits = int(math.log10(x))+1\n",
    "    elif x==0: \n",
    "        digits=1\n",
    "    else:\n",
    "        raise ValueError(\"a negative number was found\")\n",
    "    return digits\n",
    "\n",
    "def decompose(x, right_digits):\n",
    "    if right_digits < 1 or right_digits >= digit_length(x):\n",
    "        return ValueError(f\"To decompose {x}, choose a number between 1 and {digit_length(x)-1}\")\n",
    "    decimal_number = 10**right_digits\n",
    "    right = int(x%decimal_number)\n",
    "    left = int((x-x%decimal_number)//decimal_number)\n",
    "    return left, right"
   ]
  },
  {
   "cell_type": "code",
   "execution_count": 3,
   "metadata": {},
   "outputs": [],
   "source": [
    "def karatsuba_product(x, y):\n",
    "    # Base case\n",
    "    if digit_length(x) == 1 or digit_length(y) == 1:\n",
    "        return x*y\n",
    "\n",
    "    # Decompose\n",
    "    unit_length = min(digit_length(x)//2, digit_length(y)//2)\n",
    "    a, b = decompose(x, unit_length)\n",
    "    c, d = decompose(y, unit_length)\n",
    "    \n",
    "    zeros_to_add = 10**(unit_length)\n",
    "    \n",
    "    # STEP 1: a x c\n",
    "    z1 = karatsuba_product(a, c)\n",
    "\n",
    "    # STEP 2: b x d\n",
    "    z2 = karatsuba_product(b, d)\n",
    "\n",
    "    # STEP 3: \n",
    "    z3 = karatsuba_product(a+b, c+d)\n",
    "\n",
    "    # STEP 4:\n",
    "    z4 = z3 - z2 - z1\n",
    "    \n",
    "    result = z1*zeros_to_add**2 + z4*zeros_to_add + z2\n",
    "    return result\n",
    "    "
   ]
  },
  {
   "cell_type": "markdown",
   "metadata": {},
   "source": [
    "### Exercise 1:\n",
    "\n",
    "Verify that Karatsuba algorithm works."
   ]
  },
  {
   "cell_type": "code",
   "execution_count": 4,
   "metadata": {},
   "outputs": [
    {
     "data": {
      "text/plain": [
       "7006652"
      ]
     },
     "execution_count": 4,
     "metadata": {},
     "output_type": "execute_result"
    }
   ],
   "source": [
    "x, y = 5678, 1234\n",
    "karatsuba_product(x,y)"
   ]
  },
  {
   "cell_type": "code",
   "execution_count": 5,
   "metadata": {},
   "outputs": [
    {
     "data": {
      "text/plain": [
       "7006652"
      ]
     },
     "execution_count": 5,
     "metadata": {},
     "output_type": "execute_result"
    }
   ],
   "source": [
    "x*y"
   ]
  },
  {
   "cell_type": "markdown",
   "metadata": {},
   "source": [
    "Good!  \n",
    "Karatsuba and python multiplication give the same result."
   ]
  },
  {
   "cell_type": "markdown",
   "metadata": {},
   "source": [
    "### Exercise 2: \n",
    "\n",
    "Karatsuba algorithm is useful for large number, try to compute x·y.\n",
    "\n",
    "Where x=3141592653589793238462643383279502884197169399375105820974944592 and y=2718281828459045235360287471352662497757247093699959574966967627."
   ]
  },
  {
   "cell_type": "code",
   "execution_count": 6,
   "metadata": {},
   "outputs": [],
   "source": [
    "a=3141592653589793238462643383279502884197169399375105820974944592\n",
    "b=2718281828459045235360287471352662497757247093699959574966967627\n",
    "result=karatsuba_product(a, b)"
   ]
  },
  {
   "cell_type": "code",
   "execution_count": 7,
   "metadata": {},
   "outputs": [
    {
     "data": {
      "text/plain": [
       "8539734222673567065463550869546574495034888535765114961879601127067743044893204848617875072216249073013374895871952806582723184"
      ]
     },
     "execution_count": 7,
     "metadata": {},
     "output_type": "execute_result"
    }
   ],
   "source": [
    "result"
   ]
  },
  {
   "cell_type": "code",
   "execution_count": 8,
   "metadata": {},
   "outputs": [
    {
     "data": {
      "text/plain": [
       "8539734222673567065463550869546574495034888535765114961879601127067743044893204848617875072216249073013374895871952806582723184"
      ]
     },
     "execution_count": 8,
     "metadata": {},
     "output_type": "execute_result"
    }
   ],
   "source": [
    "a*b"
   ]
  },
  {
   "cell_type": "code",
   "execution_count": 9,
   "metadata": {},
   "outputs": [
    {
     "data": {
      "text/plain": [
       "True"
      ]
     },
     "execution_count": 9,
     "metadata": {},
     "output_type": "execute_result"
    }
   ],
   "source": [
    "a*b==result"
   ]
  },
  {
   "cell_type": "markdown",
   "metadata": {},
   "source": [
    "Good!\n",
    "Karatsuba and python multiplication give the same result."
   ]
  },
  {
   "cell_type": "markdown",
   "metadata": {},
   "source": [
    "### Exercise 3:\n",
    "\n",
    "Test your code, run at least 1000 samples with different length and verify all the results."
   ]
  },
  {
   "cell_type": "code",
   "execution_count": 10,
   "metadata": {},
   "outputs": [],
   "source": [
    "def python_product(x, y):\n",
    "    return np.multiply(x,y)"
   ]
  },
  {
   "cell_type": "code",
   "execution_count": 18,
   "metadata": {},
   "outputs": [
    {
     "name": "stdout",
     "output_type": "stream",
     "text": [
      "Pass! All multpliplications are correct!\n"
     ]
    }
   ],
   "source": [
    "# To have reproducable results\n",
    "np.random.seed(3)\n",
    "\n",
    "# Generating numbers\n",
    "low, high = 10**5, 10**9\n",
    "samples = np.random.randint(low, high, size=1000, dtype=np.int64)\n",
    "\n",
    "# Verifying all numbers generated will be multiplied correctly.\n",
    "for x, y in combinations(samples, 2):    \n",
    "    correct = karatsuba_product(x, y) == x*y\n",
    "    if not correct:\n",
    "        raise ValueError(f\"A bug is found for x = {x}, y= {y}\")\n",
    "print(\"Pass! All multpliplications are correct!\")"
   ]
  },
  {
   "cell_type": "markdown",
   "metadata": {},
   "source": [
    "### Mistakes"
   ]
  },
  {
   "cell_type": "markdown",
   "metadata": {},
   "source": [
    "1 . For some reason, np.log10(x) outputs the following error when I was trying to get the number length of a large number x. I guess numpy has efficient ways to do the logarithm that are not compatible with such huge number, so I decide to use the standard math library for Python."
   ]
  },
  {
   "cell_type": "code",
   "execution_count": 13,
   "metadata": {},
   "outputs": [
    {
     "ename": "TypeError",
     "evalue": "loop of ufunc does not support argument 0 of type int which has no callable log10 method",
     "output_type": "error",
     "traceback": [
      "\u001b[0;31m---------------------------------------------------------------------------\u001b[0m",
      "\u001b[0;31mAttributeError\u001b[0m                            Traceback (most recent call last)",
      "\u001b[0;31mAttributeError\u001b[0m: 'int' object has no attribute 'log10'",
      "\nThe above exception was the direct cause of the following exception:\n",
      "\u001b[0;31mTypeError\u001b[0m                                 Traceback (most recent call last)",
      "\u001b[0;32m<ipython-input-13-906be19284b5>\u001b[0m in \u001b[0;36m<module>\u001b[0;34m\u001b[0m\n\u001b[1;32m      1\u001b[0m \u001b[0;31m# Numpy is not able to compute this number (at least my numpy version)\u001b[0m\u001b[0;34m\u001b[0m\u001b[0;34m\u001b[0m\u001b[0;34m\u001b[0m\u001b[0m\n\u001b[1;32m      2\u001b[0m \u001b[0mx\u001b[0m\u001b[0;34m=\u001b[0m\u001b[0;36m3141592653589793238462643383279502884197169399375105820974944592\u001b[0m\u001b[0;34m\u001b[0m\u001b[0;34m\u001b[0m\u001b[0m\n\u001b[0;32m----> 3\u001b[0;31m \u001b[0mnp\u001b[0m\u001b[0;34m.\u001b[0m\u001b[0mlog10\u001b[0m\u001b[0;34m(\u001b[0m\u001b[0;34m[\u001b[0m\u001b[0mx\u001b[0m\u001b[0;34m]\u001b[0m\u001b[0;34m)\u001b[0m\u001b[0;34m\u001b[0m\u001b[0;34m\u001b[0m\u001b[0m\n\u001b[0m",
      "\u001b[0;31mTypeError\u001b[0m: loop of ufunc does not support argument 0 of type int which has no callable log10 method"
     ]
    }
   ],
   "source": [
    "# Numpy is not able to compute this number (at least my numpy version)\n",
    "x=3141592653589793238462643383279502884197169399375105820974944592\n",
    "np.log10([x])"
   ]
  },
  {
   "cell_type": "markdown",
   "metadata": {},
   "source": [
    "2. Be careful, in exercise 3. I try generating larger numbers, but standard python multiplication did overflow, computing a wrong result."
   ]
  },
  {
   "cell_type": "code",
   "execution_count": 19,
   "metadata": {},
   "outputs": [
    {
     "name": "stdout",
     "output_type": "stream",
     "text": [
      "456570294424 791795084744\n",
      "-9175391515681902912\n"
     ]
    },
    {
     "name": "stderr",
     "output_type": "stream",
     "text": [
      "<ipython-input-19-ab0c3278c064>:8: RuntimeWarning: overflow encountered in long_scalars\n",
      "  correct = karatsuba_product(x, y) == x*y\n",
      "<ipython-input-19-ab0c3278c064>:10: RuntimeWarning: overflow encountered in long_scalars\n",
      "  print(x*y)\n"
     ]
    },
    {
     "ename": "ValueError",
     "evalue": "A bug is found for x = 456570294424, y = 791795084744",
     "output_type": "error",
     "traceback": [
      "\u001b[0;31m---------------------------------------------------------------------------\u001b[0m",
      "\u001b[0;31mValueError\u001b[0m                                Traceback (most recent call last)",
      "\u001b[0;32m<ipython-input-19-ab0c3278c064>\u001b[0m in \u001b[0;36m<module>\u001b[0;34m\u001b[0m\n\u001b[1;32m     10\u001b[0m     \u001b[0mprint\u001b[0m\u001b[0;34m(\u001b[0m\u001b[0mx\u001b[0m\u001b[0;34m*\u001b[0m\u001b[0my\u001b[0m\u001b[0;34m)\u001b[0m\u001b[0;34m\u001b[0m\u001b[0;34m\u001b[0m\u001b[0m\n\u001b[1;32m     11\u001b[0m     \u001b[0;32mif\u001b[0m \u001b[0;32mnot\u001b[0m \u001b[0mcorrect\u001b[0m\u001b[0;34m:\u001b[0m\u001b[0;34m\u001b[0m\u001b[0;34m\u001b[0m\u001b[0m\n\u001b[0;32m---> 12\u001b[0;31m         \u001b[0;32mraise\u001b[0m \u001b[0mValueError\u001b[0m\u001b[0;34m(\u001b[0m\u001b[0;34mf\"A bug is found for x = {x}, y = {y}\"\u001b[0m\u001b[0;34m)\u001b[0m\u001b[0;34m\u001b[0m\u001b[0;34m\u001b[0m\u001b[0m\n\u001b[0m\u001b[1;32m     13\u001b[0m \u001b[0mprint\u001b[0m\u001b[0;34m(\u001b[0m\u001b[0;34m\"Pass! All multpliplications are correct!\"\u001b[0m\u001b[0;34m)\u001b[0m\u001b[0;34m\u001b[0m\u001b[0;34m\u001b[0m\u001b[0m\n",
      "\u001b[0;31mValueError\u001b[0m: A bug is found for x = 456570294424, y = 791795084744"
     ]
    }
   ],
   "source": [
    "np.random.seed(3)\n",
    "\n",
    "low, high = 10**9, 10**12\n",
    "samples = np.random.randint(low, high, size=1000, dtype=np.int64)\n",
    "\n",
    "# Verifying all numbers generated will be multiplied correctly.\n",
    "for x, y in combinations(samples, 2):    \n",
    "    correct = karatsuba_product(x, y) == x*y\n",
    "    print(x, y)\n",
    "    print(x*y)\n",
    "    if not correct:\n",
    "        raise ValueError(f\"A bug is found for x = {x}, y = {y}\")\n",
    "print(\"Pass! All multpliplications are correct!\")"
   ]
  },
  {
   "cell_type": "code",
   "execution_count": 15,
   "metadata": {},
   "outputs": [
    {
     "data": {
      "text/plain": [
       "4404232958810726626061632997512221375"
      ]
     },
     "execution_count": 15,
     "metadata": {},
     "output_type": "execute_result"
    }
   ],
   "source": [
    "1846599218847425409*2385050807916877375"
   ]
  },
  {
   "cell_type": "markdown",
   "metadata": {},
   "source": [
    "As you can see, in the loop Python give us negative number (-9175391515681902912), but it is impossible. The only reasonable explanation is that due to an overflow Python is not able to compute the product properly."
   ]
  }
 ],
 "metadata": {
  "kernelspec": {
   "display_name": "algorithms",
   "language": "python",
   "name": "algorithms"
  },
  "language_info": {
   "codemirror_mode": {
    "name": "ipython",
    "version": 3
   },
   "file_extension": ".py",
   "mimetype": "text/x-python",
   "name": "python",
   "nbconvert_exporter": "python",
   "pygments_lexer": "ipython3",
   "version": "3.8.5"
  }
 },
 "nbformat": 4,
 "nbformat_minor": 2
}
