{
 "cells": [
  {
   "cell_type": "code",
   "execution_count": 3,
   "metadata": {},
   "outputs": [],
   "source": [
    "import numpy as np"
   ]
  },
  {
   "cell_type": "markdown",
   "metadata": {},
   "source": [
    "# Karatsuba Multiplication\n",
    "\n",
    "In elementary school we learn to multiply 2 numbers:\n",
    "\n",
    "<img src=\"images/elementary_multiplication.jpg\" alt=\"drawing\" width=\"200\"/>\n",
    "\n",
    "This method/algorithm requires the mutliplication of all numbers: $n$(digits of the upper number) by $m$, so $n^2$, if n=m (3 times 2, 3 times 2, 4 times 2 and 4 times. Then we simply sum up the result of the multiplication\n",
    "\n",
    "This method/algorithm has a complexity $\\mathcal{O}(kn^2)$, each row (66 & 880) has $\\leq2n$ operations, so if there are n rows and each row has $\\leq 2n$ operations, we have a total of $2n^2$ operations.\n",
    "\n",
    "_There a 2n operations because for the first row (66) we could 22x48, so we have 2 times 8 = 16, so we put a 6 and we keep the 1, then 2 times 8 = 16, plus the 1 from before we get 17. Hence the first row would be 176, so for 2 numbers we did a total of 3 operations, that's why for each row we have $\\leq2n$ operations._\n",
    "\n",
    "Finally, we need to sum up all rows and that would be again a total of $2n^2$ operations. So the final algorithm complexity it is like to be $\\mathcal{O}(4n^2)$."
   ]
  },
  {
   "cell_type": "code",
   "execution_count": 20,
   "metadata": {},
   "outputs": [],
   "source": [
    "x = 5678\n",
    "y = 1234"
   ]
  },
  {
   "cell_type": "code",
   "execution_count": 21,
   "metadata": {},
   "outputs": [],
   "source": [
    "def digit_length(x):\n",
    "    return int(np.log10(x)+1)\n",
    "\n",
    "def decompose(x, right_digits):\n",
    "    if right_digits < 1 or right_digits >= digit_length(x):\n",
    "        return ValueError(f\"To decompose {x}, choose a number between 1 and {digit_length(x)-1}\")\n",
    "    decimal_number = 10**right_digits\n",
    "    right = int(x%decimal_number)\n",
    "    left = int((x-x%decimal_number)/decimal_number)\n",
    "    return left, right"
   ]
  },
  {
   "cell_type": "code",
   "execution_count": 22,
   "metadata": {},
   "outputs": [
    {
     "name": "stdout",
     "output_type": "stream",
     "text": [
      "56 78 12 34\n"
     ]
    }
   ],
   "source": [
    "a, b = decompose(x, 2)\n",
    "c, d = decompose(y, 2)\n",
    "print (a, b, c, d)"
   ]
  },
  {
   "cell_type": "code",
   "execution_count": 23,
   "metadata": {},
   "outputs": [],
   "source": [
    "def karatsuba_product(x, y):\n",
    "    # Base case\n",
    "    if digit_length(x) == 1 or digit_length(y) == 1:\n",
    "        return x*y\n",
    "\n",
    "    # Decompose\n",
    "    a, b = decompose(x, digit_length(x)//2)\n",
    "    c, d = decompose(y, digit_length(y)//2)\n",
    "    \n",
    "    zeros_to_add = 10**(digit_length(x)//2)\n",
    "    \n",
    "    # STEP 1: a x c\n",
    "    z1 = karatsuba_product(a, c)\n",
    "\n",
    "    # STEP 2: b x d\n",
    "    z2 = karatsuba_product(b, d)\n",
    "\n",
    "    # STEP 3: \n",
    "    z3 = karatsuba_product(a+b, c+d)\n",
    "\n",
    "    # STEP 4:\n",
    "    z4 = z3 - z2 - z1\n",
    "    \n",
    "    result = z1*zeros_to_add**2 + z4*zeros_to_add + z2\n",
    "    \n",
    "    return result\n",
    "    "
   ]
  },
  {
   "cell_type": "code",
   "execution_count": 24,
   "metadata": {},
   "outputs": [
    {
     "data": {
      "text/plain": [
       "7006652"
      ]
     },
     "execution_count": 24,
     "metadata": {},
     "output_type": "execute_result"
    }
   ],
   "source": [
    "karatsuba_product(x,y)"
   ]
  },
  {
   "cell_type": "code",
   "execution_count": 25,
   "metadata": {},
   "outputs": [
    {
     "data": {
      "text/plain": [
       "7006652"
      ]
     },
     "execution_count": 25,
     "metadata": {},
     "output_type": "execute_result"
    }
   ],
   "source": [
    "5678*1234"
   ]
  }
 ],
 "metadata": {
  "kernelspec": {
   "display_name": "algorithms",
   "language": "python",
   "name": "algorithms"
  },
  "language_info": {
   "codemirror_mode": {
    "name": "ipython",
    "version": 3
   },
   "file_extension": ".py",
   "mimetype": "text/x-python",
   "name": "python",
   "nbconvert_exporter": "python",
   "pygments_lexer": "ipython3",
   "version": "3.8.5"
  }
 },
 "nbformat": 4,
 "nbformat_minor": 2
}
